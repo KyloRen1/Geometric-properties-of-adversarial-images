{
 "cells": [
  {
   "cell_type": "code",
   "execution_count": 1,
   "metadata": {},
   "outputs": [],
   "source": [
    "import argparse\n",
    "import torch\n",
    "from models.autoencoder import MNIST_AutoEncoder\n",
    "from data.dataloader import get_dataloader_experiment\n",
    "from utils.math import cosine_similarity, centroid_point, parametric_line_equations, distance_between_two_points\n",
    "import numpy as np\n",
    "from tqdm import tqdm\n",
    "import matplotlib.pyplot as plt"
   ]
  },
  {
   "cell_type": "code",
   "execution_count": 2,
   "metadata": {},
   "outputs": [],
   "source": [
    "model_path = 'data/model_weights/mnist_autoencoder_full.pth'\n",
    "generated_images = 'data/train_data/adv_mnist/'\n",
    "real_images = 'data/train_data/mnist/'\n",
    "number_of_samples = 1000\n",
    "n_neighbours = 10"
   ]
  },
  {
   "cell_type": "code",
   "execution_count": 3,
   "metadata": {},
   "outputs": [],
   "source": [
    "model = torch.load(model_path, map_location=torch.device('cpu'))"
   ]
  },
  {
   "cell_type": "code",
   "execution_count": 4,
   "metadata": {},
   "outputs": [],
   "source": [
    "def construct_dataset(generated_image_path, real_image_path, autoencoder, plot_images=False):\n",
    "    dataloader = get_dataloader_experiment(\n",
    "        real_image_path, generated_image_path)\n",
    "    data = []\n",
    "    for img, label, img_name in dataloader:\n",
    "        encoded, decoded = autoencoder(img)\n",
    "        if plot_images:\n",
    "            plt.imshow(img.detach().squeeze().numpy())\n",
    "            plt.show()\n",
    "            plt.imshow(decoded.detach().squeeze().numpy())\n",
    "            plt.show()\n",
    "        data.append((\n",
    "            img_name[0],\n",
    "            label[0],\n",
    "            encoded.data.squeeze().view(-1).data.cpu().numpy()\n",
    "        ))\n",
    "    return data"
   ]
  },
  {
   "cell_type": "code",
   "execution_count": 5,
   "metadata": {},
   "outputs": [],
   "source": [
    "data = construct_dataset(generated_images, real_images, model)"
   ]
  },
  {
   "cell_type": "code",
   "execution_count": 6,
   "metadata": {},
   "outputs": [],
   "source": [
    "def neightbours_search(data, target, n, cosine=True):\n",
    "    neighbours = []\n",
    "    for idx in range(len(data)):\n",
    "        if data[idx][1] == 'real':\n",
    "            if cosine:\n",
    "                neighbours.append((\n",
    "                    data[idx][0],\n",
    "                    cosine_similarity(target[2], data[idx][2]),\n",
    "                    idx\n",
    "                ))\n",
    "            else:\n",
    "                neighbours.append((\n",
    "                    data[idx][0],\n",
    "                    euclidean_distance(target[2], data[idx][2]),\n",
    "                    idx\n",
    "                ))\n",
    "    neighbours = sorted(\n",
    "        neighbours, key=lambda x: x[1], reverse=cosine\n",
    "    )[:(n + 1)]\n",
    "    neighbours_values = []\n",
    "    for neightbour in neighbours[1:]:\n",
    "        neighbours_values.append(data[neightbour[2]])\n",
    "    return neighbours_values\n",
    "\n",
    "\n",
    "def distance_comparison_to_distribution(data, on_fake=True):\n",
    "    if on_fake:\n",
    "        target_idx = np.random.randint(0, number_of_samples * 10 - 1)\n",
    "    else:\n",
    "        target_idx = np.random.randint(\n",
    "            number_of_samples * 10,\n",
    "            number_of_samples * 10 + number_of_samples * 10)\n",
    "    target = data[target_idx]\n",
    "\n",
    "    # neighbours of a target\n",
    "    neighbour_point_target = neightbours_search(\n",
    "        data, target, n_neighbours, cosine=True)\n",
    "    centroid_point_coordinates = centroid_point(\n",
    "        [x[2] for x in neighbour_point_target])\n",
    "    position_vector, normal_vector = parametric_line_equations(\n",
    "        centroid_point_coordinates, target[2])\n",
    "    target_centroid_distance = distance_between_two_points(\n",
    "        centroid_point_coordinates, target[2])\n",
    "    # neighbours of a neighbours\n",
    "    distances_mx_i = []\n",
    "    distances_mx_i_normalized = []\n",
    "    for n, i in enumerate(neighbour_point_target):\n",
    "        neighbour_point_neighbour = neightbours_search(\n",
    "            data, i, n_neighbours, cosine=True)\n",
    "        centroid_point_coordinates = centroid_point(\n",
    "            [x[2] for x in neighbour_point_neighbour])\n",
    "        position_vector, normal_vector = parametric_line_equations(\n",
    "            centroid_point_coordinates, i[2])\n",
    "        i_centroid_distance = distance_between_two_points(\n",
    "            centroid_point_coordinates, i[2])\n",
    "        distances_mx_i.append(i_centroid_distance)\n",
    "        distances_mx_i_normalized.append(\n",
    "            i_centroid_distance / target_centroid_distance)\n",
    "    return target_centroid_distance, distances_mx_i, distances_mx_i_normalized"
   ]
  },
  {
   "cell_type": "code",
   "execution_count": 7,
   "metadata": {},
   "outputs": [
    {
     "name": "stderr",
     "output_type": "stream",
     "text": [
      "100%|██████████| 1000/1000 [57:49<00:00,  3.47s/it]"
     ]
    },
    {
     "name": "stdout",
     "output_type": "stream",
     "text": [
      "Done!\n"
     ]
    },
    {
     "name": "stderr",
     "output_type": "stream",
     "text": [
      "\n"
     ]
    }
   ],
   "source": [
    "distances_normalized_fake = np.zeros((\n",
    "    number_of_samples, n_neighbours\n",
    "))\n",
    "distances_normalized_real = np.zeros((\n",
    "    number_of_samples, n_neighbours\n",
    "))\n",
    "for i in tqdm(range(number_of_samples)):\n",
    "    _, orig_f, res_f = distance_comparison_to_distribution(\n",
    "            data\n",
    "    )\n",
    "    _, orig_r, res_r = distance_comparison_to_distribution(\n",
    "        data, False\n",
    "    )\n",
    "    distances_normalized_fake[i] = res_f\n",
    "    distances_normalized_real[i] = res_r\n",
    "print('Done!')"
   ]
  },
  {
   "cell_type": "code",
   "execution_count": 10,
   "metadata": {},
   "outputs": [
    {
     "data": {
      "image/png": "[encoded data removed]",
      "text/plain": [
       "<Figure size 2304x288 with 1 Axes>"
      ]
     },
     "metadata": {
      "needs_background": "light"
     },
     "output_type": "display_data"
    }
   ],
   "source": [
    "plt.rc('xtick', labelsize=20)\n",
    "plt.rc('ytick', labelsize=20)\n",
    "plt.figure(figsize=(32, 4))\n",
    "plt.ylim(0, 1)\n",
    "plt.xlim(0, n_neighbours + 1)\n",
    "plt.bar(\n",
    "        list(range(1, n_neighbours + 1)),\n",
    "        distances_normalized_real.mean(axis=0),\n",
    "        label='Real image distribution'\n",
    ")\n",
    "plt.bar(\n",
    "        list(range(1, n_neighbours + 1)),\n",
    "        distances_normalized_fake.mean(axis=0),\n",
    "        label='Adv. image distribution'\n",
    "    )\n",
    "plt.legend(loc=1, prop={'size': 20})\n",
    "plt.xticks(list(range(n_neighbours + 1)))\n",
    "plt.xlabel(f'Neighbours - KNN centroid distances (MNIST)', fontsize=26)\n",
    "plt.ylabel('Scaled distances', fontsize=26)\n",
    "plt.savefig('mnist_distribution.png')\n",
    "plt.show()"
   ]
  },
  {
   "cell_type": "code",
   "execution_count": null,
   "metadata": {},
   "outputs": [],
   "source": []
  }
 ],
 "metadata": {
  "kernelspec": {
   "display_name": "Python 3",
   "language": "python",
   "name": "python3"
  },
  "language_info": {
   "codemirror_mode": {
    "name": "ipython",
    "version": 3
   },
   "file_extension": ".py",
   "mimetype": "text/x-python",
   "name": "python",
   "nbconvert_exporter": "python",
   "pygments_lexer": "ipython3",
   "version": "3.6.7"
  }
 },
 "nbformat": 4,
 "nbformat_minor": 4
}
